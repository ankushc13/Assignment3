{
  "nbformat": 4,
  "nbformat_minor": 0,
  "metadata": {
    "kernelspec": {
      "name": "python3",
      "display_name": "Python 3"
    },
    "language_info": {
      "codemirror_mode": {
        "name": "ipython",
        "version": 3
      },
      "file_extension": ".py",
      "mimetype": "text/x-python",
      "name": "python",
      "nbconvert_exporter": "python",
      "pygments_lexer": "ipython3",
      "version": "3.7.4"
    },
    "colab": {
      "name": "Assignment3_17110018.ipynb",
      "provenance": [],
      "collapsed_sections": []
    },
    "accelerator": "GPU"
  },
  "cells": [
    {
      "cell_type": "code",
      "metadata": {
        "id": "-0-3iK3BxWlu",
        "colab_type": "code",
        "colab": {}
      },
      "source": [
        "from google.colab import drive\n",
        "drive.mount('/content/drive')"
      ],
      "execution_count": 0,
      "outputs": []
    },
    {
      "cell_type": "code",
      "metadata": {
        "id": "5M0Vzhcbxeul",
        "colab_type": "code",
        "colab": {}
      },
      "source": [
        "cd /content/drive/My\\ Drive/assign2"
      ],
      "execution_count": 0,
      "outputs": []
    },
    {
      "cell_type": "code",
      "metadata": {
        "scrolled": true,
        "id": "Cq_CHKnhxVYt",
        "colab_type": "code",
        "colab": {}
      },
      "source": [
        "import re\n",
        "import nltk\n",
        "import pandas as pd\n",
        "from keras.preprocessing.text import Tokenizer\n",
        "from nltk.tokenize import word_tokenize\n",
        "from keras.models import Sequential\n",
        "from keras.layers import LSTM, Dense, TimeDistributed,Embedding,Dropout,Conv1D,MaxPool1D\n",
        "from keras.utils import to_categorical\n",
        "import numpy as np\n",
        "from numpy import array\n",
        "import math\n",
        "nltk.download('punkt')"
      ],
      "execution_count": 0,
      "outputs": []
    },
    {
      "cell_type": "code",
      "metadata": {
        "id": "svof5NcVxVY1",
        "colab_type": "code",
        "colab": {}
      },
      "source": [
        "data = pd.read_csv('train.txt', delimiter=\"\\t\",header=None,names=[\"meta\", \"uid\", \"senti\"])\n",
        "meta=data['meta']\n",
        "uid=data['uid']\n",
        "senti=data['senti']\n",
        "X_train=[]\n",
        "Y_train=[]\n",
        "temp=[]\n",
        "dic={'negative':0,'positive':1,'neutral':2}\n",
        "for i,j,k in zip(meta,uid,senti):\n",
        "    if i=='meta':\n",
        "        if len(temp)!=0:\n",
        "            X_train.append(temp)\n",
        "        Y_train.append(dic[k])\n",
        "        temp=[]\n",
        "    else:\n",
        "        try:\n",
        "          if j!='O':\n",
        "            i=re.sub(r'[\\t\\n]+','',i)\n",
        "            temp.append(i)\n",
        "        except:\n",
        "            pass\n",
        "X_train.append(temp)"
      ],
      "execution_count": 0,
      "outputs": []
    },
    {
      "cell_type": "code",
      "metadata": {
        "id": "C1HdXADExVY5",
        "colab_type": "code",
        "colab": {}
      },
      "source": [
        "new=[]\n",
        "for i in X_train:\n",
        "    temp=[]\n",
        "    for j in i:\n",
        "        temp.extend(list(j))\n",
        "    new.append(temp)"
      ],
      "execution_count": 0,
      "outputs": []
    },
    {
      "cell_type": "code",
      "metadata": {
        "id": "eFdb9xWmxVY8",
        "colab_type": "code",
        "outputId": "c972fd03-1366-4353-dbd9-7fe04c956a58",
        "colab": {
          "base_uri": "https://localhost:8080/",
          "height": 34
        }
      },
      "source": [
        "tokenizer = Tokenizer()\n",
        "tokenizer.fit_on_texts(new)\n",
        "x_train = tokenizer.texts_to_sequences(new)\n",
        "maxx=0\n",
        "for i in x_train:\n",
        "    if maxx<len(i):\n",
        "        maxx=len(i)\n",
        "        maxi=i\n",
        "x1_train=[]\n",
        "maxx=maxx+1\n",
        "for i in x_train:\n",
        "  i.extend([0]*(maxx-len(i)))\n",
        "  x1_train.append(i)"
      ],
      "execution_count": 97,
      "outputs": [
        {
          "output_type": "execute_result",
          "data": {
            "text/plain": [
              "13524"
            ]
          },
          "metadata": {
            "tags": []
          },
          "execution_count": 97
        }
      ]
    },
    {
      "cell_type": "code",
      "metadata": {
        "id": "OaIP4v4VyLEe",
        "colab_type": "code",
        "colab": {}
      },
      "source": [
        "x1_train=array(x1_train)\n",
        "y1_train=to_categorical(Y_train, num_classes=3)"
      ],
      "execution_count": 0,
      "outputs": []
    },
    {
      "cell_type": "code",
      "metadata": {
        "id": "FbFmfNWi6k26",
        "colab_type": "code",
        "outputId": "5394d3ce-efd7-40eb-9ef1-095969c636e9",
        "colab": {
          "base_uri": "https://localhost:8080/",
          "height": 238
        }
      },
      "source": [
        "x1_train,y1_train,maxx"
      ],
      "execution_count": 99,
      "outputs": [
        {
          "output_type": "execute_result",
          "data": {
            "text/plain": [
              "(array([[ 1, 13,  2, ...,  0,  0,  0],\n",
              "        [11,  1, 13, ...,  0,  0,  0],\n",
              "        [ 8,  1,  7, ...,  0,  0,  0],\n",
              "        ...,\n",
              "        [ 1, 11, 20, ...,  0,  0,  0],\n",
              "        [ 9, 14,  8, ...,  0,  0,  0],\n",
              "        [10, 14,  8, ...,  0,  0,  0]]), array([[1., 0., 0.],\n",
              "        [1., 0., 0.],\n",
              "        [0., 1., 0.],\n",
              "        ...,\n",
              "        [1., 0., 0.],\n",
              "        [1., 0., 0.],\n",
              "        [1., 0., 0.]], dtype=float32), 198)"
            ]
          },
          "metadata": {
            "tags": []
          },
          "execution_count": 99
        }
      ]
    },
    {
      "cell_type": "code",
      "metadata": {
        "id": "WBsfkiFK3jNv",
        "colab_type": "code",
        "outputId": "4cfe98bd-86dd-420e-ee51-09414a9a2c45",
        "colab": {
          "base_uri": "https://localhost:8080/",
          "height": 34
        }
      },
      "source": [
        "vocab_size=len(tokenizer.word_index)+1\n",
        "vocab_size"
      ],
      "execution_count": 100,
      "outputs": [
        {
          "output_type": "execute_result",
          "data": {
            "text/plain": [
              "94"
            ]
          },
          "metadata": {
            "tags": []
          },
          "execution_count": 100
        }
      ]
    },
    {
      "cell_type": "code",
      "metadata": {
        "id": "4fP9LCFvDEFQ",
        "colab_type": "code",
        "outputId": "d5bb24bc-a3c6-4530-921e-378593945a86",
        "colab": {
          "base_uri": "https://localhost:8080/",
          "height": 136
        }
      },
      "source": [
        "embedding_weights=[]\n",
        "embedding_weights.append(np.zeros(vocab_size))\n",
        "embedding_weights\n",
        "\n",
        "for char, i in tokenizer.word_index.items():\n",
        "    onehot=np.zeros(vocab_size)\n",
        "    onehot[i-1] =1\n",
        "    embedding_weights.append(onehot)\n",
        "embedding_weights=np.array(embedding_weights)\n",
        "embedding_weights"
      ],
      "execution_count": 101,
      "outputs": [
        {
          "output_type": "execute_result",
          "data": {
            "text/plain": [
              "array([[0., 0., 0., ..., 0., 0., 0.],\n",
              "       [1., 0., 0., ..., 0., 0., 0.],\n",
              "       [0., 1., 0., ..., 0., 0., 0.],\n",
              "       ...,\n",
              "       [0., 0., 0., ..., 0., 0., 0.],\n",
              "       [0., 0., 0., ..., 1., 0., 0.],\n",
              "       [0., 0., 0., ..., 0., 1., 0.]])"
            ]
          },
          "metadata": {
            "tags": []
          },
          "execution_count": 101
        }
      ]
    },
    {
      "cell_type": "code",
      "metadata": {
        "id": "nZbq0UNlEbVo",
        "colab_type": "code",
        "colab": {}
      },
      "source": [
        "input_size=maxx\n",
        "embedding_size=94\n",
        "conv_layers=[[256,7,3],\n",
        "             [256,3,-1],\n",
        "             [256,3,-1],\n",
        "             [256,3,-1],\n",
        "             [256,3,3]]\n",
        "fully_connected_layers=[1024,1024]\n",
        "num_of_classes=3\n",
        "dropout_p=0.3\n",
        "optimizer='adam'\n",
        "loss='categorical_crossentropy'"
      ],
      "execution_count": 0,
      "outputs": []
    },
    {
      "cell_type": "code",
      "metadata": {
        "id": "HaYVJAaBFnD8",
        "colab_type": "code",
        "colab": {}
      },
      "source": [
        "from keras.layers import Input, Embedding, Activation, Flatten, Dense\n",
        "from keras.layers import Conv1D, MaxPooling1D, Dropout\n",
        "from keras.models import Model"
      ],
      "execution_count": 0,
      "outputs": []
    },
    {
      "cell_type": "code",
      "metadata": {
        "id": "59XS6A4TFjwV",
        "colab_type": "code",
        "colab": {}
      },
      "source": [
        "embedding_layer=Embedding(vocab_size,embedding_size,input_length=input_size,weights=[embedding_weights])"
      ],
      "execution_count": 0,
      "outputs": []
    },
    {
      "cell_type": "code",
      "metadata": {
        "id": "b66OBZxlF9Ou",
        "colab_type": "code",
        "colab": {}
      },
      "source": [
        "inputs=Input(shape=(input_size,),name='input',dtype='float32')\n",
        "\n",
        "x=embedding_layer(inputs)\n",
        "\n",
        "for filter_num,filter_size,pooling_size in conv_layers:\n",
        "    x= Conv1D(filter_num,filter_size)(x)\n",
        "    x=Activation('relu')(x)\n",
        "    if pooling_size!=-1:\n",
        "        x=MaxPooling1D(pool_size=pooling_size)(x)\n",
        "x=Flatten()(x)\n",
        "for dense_size in fully_connected_layers:\n",
        "    x=Dense(dense_size,activation='relu')(x)\n",
        "    x=Dropout(dropout_p)(x)\n",
        "predictions = Dense(num_of_classes,activation='softmax')(x)\n",
        "model=Model(inputs=inputs,outputs=predictions)\n",
        "model.compile(optimizer=optimizer,loss=loss,metrics=['accuracy'])"
      ],
      "execution_count": 0,
      "outputs": []
    },
    {
      "cell_type": "code",
      "metadata": {
        "id": "mr3P5tKjxVY_",
        "colab_type": "code",
        "colab": {}
      },
      "source": [
        "# model = Sequential()\n",
        "# model.add(Embedding(94, 128, input_length=197))\n",
        "# model.add(Conv1D(128,kernel_size=3))\n",
        "# model.add(MaxPool1D(pool_size=3))\n",
        "# model.add(LSTM(128,return_sequences=True))\n",
        "# model.add(Dropout(0.2))\n",
        "# model.add(LSTM(128))\n",
        "# model.add(Dropout(0.2))\n",
        "# model.add(Dense(3, activation='softmax'))\n",
        "# model.compile('adam', 'categorical_crossentropy', metrics=['accuracy'])"
      ],
      "execution_count": 0,
      "outputs": []
    },
    {
      "cell_type": "code",
      "metadata": {
        "id": "1bIakwtj55TI",
        "colab_type": "code",
        "outputId": "3143abad-8c5c-40dc-dbfe-aa932ae201f8",
        "colab": {
          "base_uri": "https://localhost:8080/",
          "height": 1000
        }
      },
      "source": [
        "model.fit(x1, y1, batch_size=32, epochs=80,verbose=1)"
      ],
      "execution_count": 135,
      "outputs": [
        {
          "output_type": "stream",
          "text": [
            "Epoch 1/80\n",
            "13524/13524 [==============================] - 5s 376us/step - loss: 0.0427 - acc: 0.9881\n",
            "Epoch 2/80\n",
            "13524/13524 [==============================] - 5s 379us/step - loss: 0.0472 - acc: 0.9854\n",
            "Epoch 3/80\n",
            "13524/13524 [==============================] - 5s 369us/step - loss: 0.0484 - acc: 0.9871\n",
            "Epoch 4/80\n",
            "13524/13524 [==============================] - 5s 364us/step - loss: 0.0520 - acc: 0.9864\n",
            "Epoch 5/80\n",
            "13524/13524 [==============================] - 5s 360us/step - loss: 0.0469 - acc: 0.9860\n",
            "Epoch 6/80\n",
            "13524/13524 [==============================] - 5s 359us/step - loss: 0.0301 - acc: 0.9913\n",
            "Epoch 7/80\n",
            "13524/13524 [==============================] - 5s 364us/step - loss: 0.0369 - acc: 0.9891\n",
            "Epoch 8/80\n",
            "13524/13524 [==============================] - 5s 362us/step - loss: 0.0422 - acc: 0.9868\n",
            "Epoch 9/80\n",
            "13524/13524 [==============================] - 5s 363us/step - loss: 0.0538 - acc: 0.9866\n",
            "Epoch 10/80\n",
            "13524/13524 [==============================] - 5s 362us/step - loss: 0.0585 - acc: 0.9842\n",
            "Epoch 11/80\n",
            "13524/13524 [==============================] - 5s 365us/step - loss: 0.0460 - acc: 0.9885\n",
            "Epoch 12/80\n",
            "13524/13524 [==============================] - 5s 362us/step - loss: 0.0454 - acc: 0.9869\n",
            "Epoch 13/80\n",
            "13524/13524 [==============================] - 5s 361us/step - loss: 0.0375 - acc: 0.9885\n",
            "Epoch 14/80\n",
            "13524/13524 [==============================] - 5s 363us/step - loss: 0.0392 - acc: 0.9883\n",
            "Epoch 15/80\n",
            "13524/13524 [==============================] - 5s 370us/step - loss: 0.0557 - acc: 0.9851\n",
            "Epoch 16/80\n",
            "13524/13524 [==============================] - 5s 369us/step - loss: 0.0615 - acc: 0.9814\n",
            "Epoch 17/80\n",
            "13524/13524 [==============================] - 5s 363us/step - loss: 0.0713 - acc: 0.9793\n",
            "Epoch 18/80\n",
            "13524/13524 [==============================] - 5s 361us/step - loss: 0.0410 - acc: 0.9879\n",
            "Epoch 19/80\n",
            "13524/13524 [==============================] - 5s 362us/step - loss: 0.0224 - acc: 0.9924\n",
            "Epoch 20/80\n",
            "13524/13524 [==============================] - 5s 364us/step - loss: 0.0254 - acc: 0.9913\n",
            "Epoch 21/80\n",
            "13524/13524 [==============================] - 5s 362us/step - loss: 0.0399 - acc: 0.9875\n",
            "Epoch 22/80\n",
            "13524/13524 [==============================] - 5s 362us/step - loss: 0.0353 - acc: 0.9869\n",
            "Epoch 23/80\n",
            "13524/13524 [==============================] - 5s 363us/step - loss: 0.0246 - acc: 0.9915\n",
            "Epoch 24/80\n",
            "13524/13524 [==============================] - 5s 364us/step - loss: 0.0449 - acc: 0.9861\n",
            "Epoch 25/80\n",
            "13524/13524 [==============================] - 5s 362us/step - loss: 0.0267 - acc: 0.9901\n",
            "Epoch 26/80\n",
            "13524/13524 [==============================] - 5s 361us/step - loss: 0.0376 - acc: 0.9880\n",
            "Epoch 27/80\n",
            "13524/13524 [==============================] - 5s 363us/step - loss: 0.0706 - acc: 0.9797\n",
            "Epoch 28/80\n",
            "13524/13524 [==============================] - 5s 363us/step - loss: 0.0439 - acc: 0.9879\n",
            "Epoch 29/80\n",
            "13524/13524 [==============================] - 5s 361us/step - loss: 0.0247 - acc: 0.9910\n",
            "Epoch 30/80\n",
            "13524/13524 [==============================] - 5s 363us/step - loss: 0.1110 - acc: 0.9703\n",
            "Epoch 31/80\n",
            "13524/13524 [==============================] - 5s 364us/step - loss: 0.1023 - acc: 0.9780\n",
            "Epoch 32/80\n",
            "13524/13524 [==============================] - 5s 365us/step - loss: 0.0378 - acc: 0.9876\n",
            "Epoch 33/80\n",
            "13524/13524 [==============================] - 5s 366us/step - loss: 0.0337 - acc: 0.9914\n",
            "Epoch 34/80\n",
            "13524/13524 [==============================] - 5s 360us/step - loss: 0.0285 - acc: 0.9923\n",
            "Epoch 35/80\n",
            "13524/13524 [==============================] - 5s 366us/step - loss: 0.0358 - acc: 0.9891\n",
            "Epoch 36/80\n",
            "13524/13524 [==============================] - 5s 364us/step - loss: 0.0497 - acc: 0.9867\n",
            "Epoch 37/80\n",
            "13524/13524 [==============================] - 5s 364us/step - loss: 0.0461 - acc: 0.9880\n",
            "Epoch 38/80\n",
            "13524/13524 [==============================] - 5s 364us/step - loss: 0.0478 - acc: 0.9877\n",
            "Epoch 39/80\n",
            "13524/13524 [==============================] - 5s 361us/step - loss: 0.0409 - acc: 0.9891\n",
            "Epoch 40/80\n",
            "13524/13524 [==============================] - 5s 363us/step - loss: 0.0546 - acc: 0.9846\n",
            "Epoch 41/80\n",
            "13524/13524 [==============================] - 5s 363us/step - loss: 0.0354 - acc: 0.9888\n",
            "Epoch 42/80\n",
            "13524/13524 [==============================] - 5s 361us/step - loss: 0.0332 - acc: 0.9899\n",
            "Epoch 43/80\n",
            "13524/13524 [==============================] - 5s 361us/step - loss: 0.0554 - acc: 0.9834\n",
            "Epoch 44/80\n",
            "13524/13524 [==============================] - 5s 365us/step - loss: 0.0598 - acc: 0.9837\n",
            "Epoch 45/80\n",
            "13524/13524 [==============================] - 5s 361us/step - loss: 0.0498 - acc: 0.9857\n",
            "Epoch 46/80\n",
            "13524/13524 [==============================] - 5s 360us/step - loss: 0.0422 - acc: 0.9871\n",
            "Epoch 47/80\n",
            "13524/13524 [==============================] - 5s 362us/step - loss: 0.0607 - acc: 0.9825\n",
            "Epoch 48/80\n",
            "13524/13524 [==============================] - 5s 362us/step - loss: 0.0542 - acc: 0.9852\n",
            "Epoch 49/80\n",
            "13524/13524 [==============================] - 5s 363us/step - loss: 0.0480 - acc: 0.9857\n",
            "Epoch 50/80\n",
            "13524/13524 [==============================] - 5s 363us/step - loss: 0.0379 - acc: 0.9871\n",
            "Epoch 51/80\n",
            "13524/13524 [==============================] - 5s 364us/step - loss: 0.0349 - acc: 0.9894\n",
            "Epoch 52/80\n",
            "13524/13524 [==============================] - 5s 363us/step - loss: 0.0263 - acc: 0.9908\n",
            "Epoch 53/80\n",
            "13524/13524 [==============================] - 5s 362us/step - loss: 0.0193 - acc: 0.9932\n",
            "Epoch 54/80\n",
            "13524/13524 [==============================] - 5s 360us/step - loss: 0.0525 - acc: 0.9862\n",
            "Epoch 55/80\n",
            "13524/13524 [==============================] - 5s 363us/step - loss: 0.0414 - acc: 0.9864\n",
            "Epoch 56/80\n",
            "13524/13524 [==============================] - 5s 362us/step - loss: 0.0474 - acc: 0.9863\n",
            "Epoch 57/80\n",
            "13524/13524 [==============================] - 5s 367us/step - loss: 0.0313 - acc: 0.9906\n",
            "Epoch 58/80\n",
            "13524/13524 [==============================] - 5s 363us/step - loss: 0.0312 - acc: 0.9908\n",
            "Epoch 59/80\n",
            "13524/13524 [==============================] - 5s 362us/step - loss: 0.0421 - acc: 0.9871\n",
            "Epoch 60/80\n",
            "13524/13524 [==============================] - 5s 365us/step - loss: 0.0346 - acc: 0.9891\n",
            "Epoch 61/80\n",
            "13524/13524 [==============================] - 5s 363us/step - loss: 0.0463 - acc: 0.9879\n",
            "Epoch 62/80\n",
            "13524/13524 [==============================] - 5s 360us/step - loss: 0.0438 - acc: 0.9871\n",
            "Epoch 63/80\n",
            "13524/13524 [==============================] - 5s 362us/step - loss: 0.0444 - acc: 0.9872\n",
            "Epoch 64/80\n",
            "13524/13524 [==============================] - 5s 376us/step - loss: 0.0565 - acc: 0.9841\n",
            "Epoch 65/80\n",
            "13524/13524 [==============================] - 5s 376us/step - loss: 0.0605 - acc: 0.9845\n",
            "Epoch 66/80\n",
            "13524/13524 [==============================] - 5s 371us/step - loss: 0.0499 - acc: 0.9865\n",
            "Epoch 67/80\n",
            "13524/13524 [==============================] - 5s 362us/step - loss: 0.0359 - acc: 0.9894\n",
            "Epoch 68/80\n",
            "13524/13524 [==============================] - 5s 363us/step - loss: 0.0585 - acc: 0.9817\n",
            "Epoch 69/80\n",
            "13524/13524 [==============================] - 5s 363us/step - loss: 0.0457 - acc: 0.9887\n",
            "Epoch 70/80\n",
            "13524/13524 [==============================] - 5s 362us/step - loss: 0.0291 - acc: 0.9915\n",
            "Epoch 71/80\n",
            "13524/13524 [==============================] - 5s 363us/step - loss: 0.0362 - acc: 0.9905\n",
            "Epoch 72/80\n",
            "13524/13524 [==============================] - 5s 365us/step - loss: 0.0449 - acc: 0.9875\n",
            "Epoch 73/80\n",
            "13524/13524 [==============================] - 5s 359us/step - loss: 0.0400 - acc: 0.9897\n",
            "Epoch 74/80\n",
            "13524/13524 [==============================] - 5s 361us/step - loss: 0.0408 - acc: 0.9900\n",
            "Epoch 75/80\n",
            "13524/13524 [==============================] - 5s 365us/step - loss: 0.0623 - acc: 0.9859\n",
            "Epoch 76/80\n",
            "13524/13524 [==============================] - 5s 361us/step - loss: 0.0531 - acc: 0.9863\n",
            "Epoch 77/80\n",
            "13524/13524 [==============================] - 5s 370us/step - loss: 0.0622 - acc: 0.9842\n",
            "Epoch 78/80\n",
            "13524/13524 [==============================] - 5s 367us/step - loss: 0.0417 - acc: 0.9898\n",
            "Epoch 79/80\n",
            "13524/13524 [==============================] - 5s 362us/step - loss: 0.0564 - acc: 0.9840\n",
            "Epoch 80/80\n",
            "13524/13524 [==============================] - 5s 364us/step - loss: 0.0512 - acc: 0.9856\n"
          ],
          "name": "stdout"
        },
        {
          "output_type": "execute_result",
          "data": {
            "text/plain": [
              "<keras.callbacks.History at 0x7ff667b4ef28>"
            ]
          },
          "metadata": {
            "tags": []
          },
          "execution_count": 135
        }
      ]
    },
    {
      "cell_type": "code",
      "metadata": {
        "id": "Fr8R6un48N75",
        "colab_type": "code",
        "colab": {}
      },
      "source": [
        "model.save(\"model_testgood.h5\")"
      ],
      "execution_count": 0,
      "outputs": []
    },
    {
      "cell_type": "code",
      "metadata": {
        "id": "15styibZKdKV",
        "colab_type": "code",
        "colab": {}
      },
      "source": [
        "from keras.models import load_model\n",
        "model1=load_model(\"model_testgood.h5\")"
      ],
      "execution_count": 0,
      "outputs": []
    },
    {
      "cell_type": "markdown",
      "metadata": {
        "id": "3ngXBDrUTb-H",
        "colab_type": "text"
      },
      "source": [
        "**EXTRACTING TEST DATA**"
      ]
    },
    {
      "cell_type": "code",
      "metadata": {
        "id": "NgYz-aMyIpfd",
        "colab_type": "code",
        "colab": {}
      },
      "source": [
        "data1 = pd.read_csv('test.txt', delimiter=\"\\t\",header=None,names=[\"meta\", \"uid\", \"senti\"])\n",
        "meta1=data1['meta']\n",
        "uid1=data1['uid']\n",
        "senti1=data1['senti']\n",
        "X1_test=[]\n",
        "Y1_test=[]\n",
        "temp1=[]\n",
        "dic1={'negative':0,'positive':1,'neutral':2}\n",
        "for i,j,k in zip(meta1,uid1,senti1):\n",
        "    if i=='meta':\n",
        "        if len(temp1)!=0:\n",
        "            X1_test.append(temp1)\n",
        "        Y1_test.append(dic1[k])\n",
        "        temp1=[]\n",
        "    else:\n",
        "        try:\n",
        "          if j!='O':\n",
        "            i=re.sub(r'[\\t\\n]+','',i)\n",
        "            temp1.append(i)\n",
        "        except:\n",
        "            pass\n",
        "X1_test.append(temp1)"
      ],
      "execution_count": 0,
      "outputs": []
    },
    {
      "cell_type": "code",
      "metadata": {
        "id": "Ue7UuriqI6l-",
        "colab_type": "code",
        "colab": {}
      },
      "source": [
        "new1=[]\n",
        "for i in X1_test:\n",
        "    temp1=[]\n",
        "    for j in i:\n",
        "        temp1.extend(list(j))\n",
        "    new1.append(temp1)"
      ],
      "execution_count": 0,
      "outputs": []
    },
    {
      "cell_type": "code",
      "metadata": {
        "id": "5CwUAjGMJIiu",
        "colab_type": "code",
        "colab": {}
      },
      "source": [
        "tokenizer.fit_on_texts(new1)\n",
        "x2_test = tokenizer.texts_to_sequences(new1)\n",
        "\n",
        "x3_test=[]\n",
        "for i in x2_test:\n",
        "  i.extend([0]*(maxx-len(i)))\n",
        "  x3_test.append(i)\n"
      ],
      "execution_count": 0,
      "outputs": []
    },
    {
      "cell_type": "code",
      "metadata": {
        "id": "nyNt6lSILQ71",
        "colab_type": "code",
        "outputId": "137ca021-4e90-4afc-95d9-41d414102336",
        "colab": {
          "base_uri": "https://localhost:8080/",
          "height": 221
        }
      },
      "source": [
        "x3_test=array(x3_test)\n",
        "y3_test=to_categorical(Y1_test, num_classes=3)\n",
        "x3_test[0]"
      ],
      "execution_count": 132,
      "outputs": [
        {
          "output_type": "execute_result",
          "data": {
            "text/plain": [
              "array([ 7,  5, 14,  1,  1, 15, 18,  6,  9, 22,  3,  8,  8,  2,  6,  9,  8,\n",
              "       12,  6, 23,  3, 12,  6,  6, 10,  8, 19,  6,  6, 13,  6,  9, 11,  1,\n",
              "       13, 13,  2,  3,  1, 10,  6, 12,  1,  9, 19, 16,  1, 17, 14,  9, 19,\n",
              "        8,  6, 16,  7,  1,  9, 19, 11,  1,  8,  1, 17,  1, 10,  1,  8,  2,\n",
              "       11,  1, 17, 24,  6, 12,  6,  8, 17,  1, 16,  3, 22,  6,  7,  3, 21,\n",
              "        2,  5,  4,  5,  4,  3, 15,  1,  8,  5, 24, 11,  3, 13, 17,  6, 12,\n",
              "        6, 21, 10,  3, 17,  8,  0,  0,  0,  0,  0,  0,  0,  0,  0,  0,  0,\n",
              "        0,  0,  0,  0,  0,  0,  0,  0,  0,  0,  0,  0,  0,  0,  0,  0,  0,\n",
              "        0,  0,  0,  0,  0,  0,  0,  0,  0,  0,  0,  0,  0,  0,  0,  0,  0,\n",
              "        0,  0,  0,  0,  0,  0,  0,  0,  0,  0,  0,  0,  0,  0,  0,  0,  0,\n",
              "        0,  0,  0,  0,  0,  0,  0,  0,  0,  0,  0,  0,  0,  0,  0,  0,  0,\n",
              "        0,  0,  0,  0,  0,  0,  0,  0,  0,  0,  0])"
            ]
          },
          "metadata": {
            "tags": []
          },
          "execution_count": 132
        }
      ]
    },
    {
      "cell_type": "code",
      "metadata": {
        "id": "K53TWYJPIZVP",
        "colab_type": "code",
        "outputId": "1bf95f96-5725-4f64-a9de-fbd61381392b",
        "colab": {
          "base_uri": "https://localhost:8080/",
          "height": 187
        }
      },
      "source": [
        "from sklearn.metrics import classification_report,accuracy_score\n",
        "yout=array(Y1_test)\n",
        "y_predict = model1.predict(x3, verbose=0)\n",
        "Y_predict=np.argmax(yhat,axis=1)\n",
        "print(classification_report(Y1_test,Y_predict))  #['negative':0,'positive':1,'neutral':2]"
      ],
      "execution_count": 134,
      "outputs": [
        {
          "output_type": "stream",
          "text": [
            "              precision    recall  f1-score   support\n",
            "\n",
            "           0       0.56      0.37      0.45       533\n",
            "           1       0.53      0.43      0.47       582\n",
            "           2       0.46      0.64      0.53       754\n",
            "\n",
            "    accuracy                           0.50      1869\n",
            "   macro avg       0.52      0.48      0.49      1869\n",
            "weighted avg       0.51      0.50      0.49      1869\n",
            "\n"
          ],
          "name": "stdout"
        }
      ]
    }
  ]
}